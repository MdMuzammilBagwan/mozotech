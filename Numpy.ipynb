{
  "nbformat": 4,
  "nbformat_minor": 0,
  "metadata": {
    "colab": {
      "name": "Untitled0.ipynb",
      "provenance": [],
      "collapsed_sections": [],
      "mount_file_id": "1kTWnDOCbPd-CIayvVN2q9t0REz6Y7e9u",
      "authorship_tag": "ABX9TyPxEKn5tlWu08S5esKifBSz",
      "include_colab_link": true
    },
    "kernelspec": {
      "name": "python3",
      "display_name": "Python 3"
    }
  },
  "cells": [
    {
      "cell_type": "markdown",
      "metadata": {
        "id": "view-in-github",
        "colab_type": "text"
      },
      "source": [
        "<a href=\"https://colab.research.google.com/github/MdMuzammilBagwan/mozotech/blob/master/Numpy.ipynb\" target=\"_parent\"><img src=\"https://colab.research.google.com/assets/colab-badge.svg\" alt=\"Open In Colab\"/></a>"
      ]
    },
    {
      "cell_type": "markdown",
      "metadata": {
        "id": "bkzdW7j5Sscz",
        "colab_type": "text"
      },
      "source": [
        "NUMPY  Tutorial"
      ]
    },
    {
      "cell_type": "code",
      "metadata": {
        "id": "GL-mi_IyDCGn",
        "colab_type": "code",
        "colab": {}
      },
      "source": [
        "import numpy as np"
      ],
      "execution_count": 0,
      "outputs": []
    },
    {
      "cell_type": "markdown",
      "metadata": {
        "id": "DjWepSLyYE5K",
        "colab_type": "text"
      },
      "source": [
        "The Basics"
      ]
    },
    {
      "cell_type": "code",
      "metadata": {
        "id": "_iP_bp4p6I6Y",
        "colab_type": "code",
        "outputId": "fa658f97-43cf-4ede-bb6b-b942367868a7",
        "colab": {
          "base_uri": "https://localhost:8080/",
          "height": 156
        }
      },
      "source": [
        "#Single dimension Array\n",
        "a=np.array([1,2,3])\n",
        "a.dtype=\"int16\"\n",
        "print(a)\n",
        "print(\"2dimensional  Array\")\n",
        "b=np.array([[1,2,3],\n",
        "            [1,2,4],\n",
        "            [1,2,6]])\n",
        "print(b)\n",
        "print(\"Shape is:\",b.shape,\"this is \",b.ndim,\" Dim array\",b.itemsize,\"Size is\")\n",
        "print(a.dtype)\n",
        "a.dtype"
      ],
      "execution_count": 31,
      "outputs": [
        {
          "output_type": "stream",
          "text": [
            "[1 0 0 0 2 0 0 0 3 0 0 0]\n",
            "2dimensional  Array\n",
            "[[1 2 3]\n",
            " [1 2 4]\n",
            " [1 2 6]]\n",
            "Shape is: (3, 3) this is  2  Dim array 8 Size is\n",
            "int16\n"
          ],
          "name": "stdout"
        },
        {
          "output_type": "execute_result",
          "data": {
            "text/plain": [
              "dtype('int16')"
            ]
          },
          "metadata": {
            "tags": []
          },
          "execution_count": 31
        }
      ]
    },
    {
      "cell_type": "markdown",
      "metadata": {
        "id": "pL5luRl0ZBdq",
        "colab_type": "text"
      },
      "source": [
        "Accesing changing specific element\n",
        "rows\n",
        "colums,etc"
      ]
    },
    {
      "cell_type": "code",
      "metadata": {
        "id": "F0_07qGhZoSp",
        "colab_type": "code",
        "colab": {
          "base_uri": "https://localhost:8080/",
          "height": 156
        },
        "outputId": "76a6904f-d260-4d69-c546-5af58cc279b0"
      },
      "source": [
        "c=np.array([[1,3,4,5],\n",
        "            [4,5,7,3]])\n",
        "print(c)\n",
        "print(\"for printing specific element \",c[0,3],c[0,:],c[:,2],c[:,3])\n",
        "print(c[0,1:4:2])\n",
        "print(c[1,2])\n",
        "c[1,2]=12\n",
        "print(c)\n",
        "print(c[0,1:-1:2])\n",
        "print(a)\n"
      ],
      "execution_count": 57,
      "outputs": [
        {
          "output_type": "stream",
          "text": [
            "[[1 3 4 5]\n",
            " [4 5 7 3]]\n",
            "for printing specific element  5 [1 3 4 5] [4 7] [5 3]\n",
            "[3 5]\n",
            "7\n",
            "[[ 1  3  4  5]\n",
            " [ 4  5 12  3]]\n",
            "[3]\n"
          ],
          "name": "stdout"
        }
      ]
    }
  ]
}